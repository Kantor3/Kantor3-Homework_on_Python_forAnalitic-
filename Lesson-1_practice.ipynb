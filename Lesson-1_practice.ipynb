{
 "cells": [
  {
   "cell_type": "markdown",
   "id": "ae6ecaab",
   "metadata": {},
   "source": [
    "# Курс \"Основы языка Python для аналитиков\". Урок-1. Практика"
   ]
  },
  {
   "cell_type": "markdown",
   "id": "a76b8f8f",
   "metadata": {},
   "source": [
    "## Условие 2.\n",
    "На складе лежат разные фрукты в разном количестве.\n",
    "Нужно написать функцию, которая на вход принимает любое количество названий фруктов и их количество, а возвращает общее количество фруктов на складе"
   ]
  },
  {
   "cell_type": "code",
   "execution_count": 114,
   "id": "5aa0317b",
   "metadata": {},
   "outputs": [],
   "source": [
    "from collections import Counter\n",
    "from functools import reduce"
   ]
  },
  {
   "cell_type": "code",
   "execution_count": 76,
   "id": "6f50c468",
   "metadata": {},
   "outputs": [],
   "source": [
    "def Arrival_fruits(rest, **fruits):\n",
    "    \n",
    "    dicts = [rest, fruits]\n",
    "    rest = dict(sum(map(Counter, dicts), Counter()))\n",
    "    \n",
    "    fruits_total = sum(rest.values())\n",
    "    fruits_name = rest.keys()\n",
    "\n",
    "    return rest, fruits_name, fruits_total"
   ]
  },
  {
   "cell_type": "code",
   "execution_count": 79,
   "id": "22071071",
   "metadata": {
    "scrolled": false
   },
   "outputs": [
    {
     "name": "stdout",
     "output_type": "stream",
     "text": [
      "Всего на складе фруктов ('Яблоки', 'Помело', 'Апельсины', 'Ананасы', 'Груши', 'Мандарины', 'Бананы', 'Кокос', 'Слива') = 6880\n"
     ]
    }
   ],
   "source": [
    "# Начальные остатки на складе\n",
    "rest_STORE = {'Яблоки': 1200,\n",
    "              'Помело': 50,\n",
    "              'Апельсины': 900,\n",
    "              'Ананасы': 600,\n",
    "              'Груши': 1500,\n",
    "              'Мандарины': 280,\n",
    "              'Бананы': 800}\n",
    "\n",
    "# Поступило фруктов\n",
    "fruits_dic = {'Яблоки': 300,\n",
    "             'Кокос': 100,\n",
    "             'Апельсины': 450,\n",
    "             'Груши': 250,\n",
    "             'Мандарины': 280,\n",
    "             'Слива': 170}\n",
    "\n",
    "rest_STORE, names, total = Arrival_fruits(rest_STORE, **fruits_dic)\n",
    "\n",
    "print(f'Всего на складе фруктов {tuple(names)} = {total}')"
   ]
  },
  {
   "cell_type": "markdown",
   "id": "6ad050c5",
   "metadata": {},
   "source": [
    "## Условие 3.\n",
    "Дан список с затратами на рекламу. Но в данных есть ошибки, некоторые затраты имеют отрицательную величину. Удалите такие значения из списка и посчитайте суммарные затраты\n",
    "[100, 125, -90, 345, 655, -1, 0, 200]\n",
    "Используйте list comprehensions"
   ]
  },
  {
   "cell_type": "code",
   "execution_count": 84,
   "id": "ff229512",
   "metadata": {
    "scrolled": true
   },
   "outputs": [
    {
     "name": "stdout",
     "output_type": "stream",
     "text": [
      "Сумма не отрицательных затрат = 1425\n"
     ]
    }
   ],
   "source": [
    "costs = [100, 125, -90, 345, 655, -1, 0, 200]\n",
    "costs_total = sum([el for el in costs if el > 0])\n",
    "print(f'Сумма не отрицательных затрат = {costs_total}')"
   ]
  },
  {
   "cell_type": "markdown",
   "id": "9d13b880",
   "metadata": {},
   "source": [
    "## Условие 4.\n",
    "Даны два списка: \n",
    "1) Дата покупки\n",
    "['2021-09-14', '2021-12-15', '2021-09-08', '2021-12-05', '2021-10-09', '2021-09-30', '2021-12-22', '2021-11-29', '2021-12-24', '2021-11-26', '2021-10-27', '2021-12-18', '2021-11-09', '2021-11-23', '2021-09-27', '2021-10-02', '2021-12-27', '2021-09-20', '2021-12-13', '2021-11-01', '2021-11-09', '2021-12-06', '2021-12-08', '2021-10-09', '2021-10-31', '2021-09-30', '2021-11-09', '2021-12-13', '2021-10-26', '2021-12-09']\n",
    "2) Суммы покупок по датам\n",
    "[1270, 8413, 9028, 3703, 5739, 4095, 295, 4944, 5723, 3701, 4471, 651, 7037, 4274, 6275, 4988, 6930, 2971, 6592, 2004, 2822, 519, 3406, 2732, 5015, 2008, 316, 6333, 5700, 2887]"
   ]
  },
  {
   "cell_type": "markdown",
   "id": "14fd1f1f",
   "metadata": {},
   "source": [
    "### 4.1 \n",
    "Найдите, какая выручка у компании в ноябре\n",
    "*(Используйте list comprehensions)*"
   ]
  },
  {
   "cell_type": "code",
   "execution_count": 123,
   "id": "ee5ce561",
   "metadata": {},
   "outputs": [],
   "source": [
    "import datetime"
   ]
  },
  {
   "cell_type": "code",
   "execution_count": 124,
   "id": "53a02aa7",
   "metadata": {},
   "outputs": [],
   "source": [
    "shop_date = ['2021-09-14', '2021-12-15', '2021-09-08', '2021-12-05', '2021-10-09', '2021-09-30', '2021-12-22', \n",
    "             '2021-11-29', '2021-12-24', '2021-11-26', '2021-10-27', '2021-12-18', '2021-11-09', '2021-11-23', \n",
    "             '2021-09-27', '2021-10-02', '2021-12-27', '2021-09-20', '2021-12-13', '2021-11-01', '2021-11-09', \n",
    "             '2021-12-06', '2021-12-08', '2021-10-09', '2021-10-31', '2021-09-30', '2021-11-09', '2021-12-13', \n",
    "             '2021-10-26', '2021-12-09']\n",
    "shop_val = [1270, 8413, 9028, 3703, 5739, 4095, 295, 4944, 5723, 3701, 4471, 651, 7037, 4274, 6275, 4988, 6930, \n",
    "            2971, 6592, 2004, 2822, 519, 3406, 2732, 5015, 2008, 316, 6333, 5700, 2887]\n",
    "month = 11   # Ноябрь"
   ]
  },
  {
   "cell_type": "code",
   "execution_count": 125,
   "id": "8bbf00aa",
   "metadata": {},
   "outputs": [],
   "source": [
    "def shop_val_month(shop_date, shop_val, month):\n",
    "    total_month = sum([val for date, val in zip(shop_date, shop_val) \n",
    "                       if datetime.datetime.strptime(date, '%Y-%m-%d').date().month == month])\n",
    "    return total_month"
   ]
  },
  {
   "cell_type": "code",
   "execution_count": 126,
   "id": "faf43043",
   "metadata": {},
   "outputs": [
    {
     "name": "stdout",
     "output_type": "stream",
     "text": [
      "Выручка компании в ноябре составила 25098 руб.\n"
     ]
    }
   ],
   "source": [
    "print(f'Выручка компании в ноябре составила {shop_val_month(shop_date, shop_val, month)} руб.')"
   ]
  },
  {
   "cell_type": "markdown",
   "id": "5c13509c",
   "metadata": {},
   "source": [
    "### 4.2 \n",
    "Найдите выручку компании в зависимости от месяца\n",
    "Для этого напишите функцию, которая на вход принимает список с датами и список с выручкой, а на выходе словарь, где ключи - это месяцы, а значения - это выручка.\n",
    "Используйте аннотирование типов."
   ]
  },
  {
   "cell_type": "code",
   "execution_count": 127,
   "id": "652f69ae",
   "metadata": {},
   "outputs": [],
   "source": [
    "def getMonth_fromStr(date):\n",
    "    return datetime.datetime.strptime(date, '%Y-%m-%d').date().month"
   ]
  },
  {
   "cell_type": "code",
   "execution_count": 128,
   "id": "ee055318",
   "metadata": {},
   "outputs": [
    {
     "name": "stdout",
     "output_type": "stream",
     "text": [
      "Выручка компании по месяцам: {9: 25647, 12: 45452, 10: 28645, 11: 25098}\n"
     ]
    }
   ],
   "source": [
    "monts = list(map(getMonth_fromStr, shop_date))\n",
    "\n",
    "monts_shop = [dict([(k, v)]) for k, v in zip(monts, shop_val)]\n",
    "\n",
    "print(f'Выручка компании по месяцам: {dict(sum(map(Counter, monts_shop), Counter()))}')"
   ]
  }
 ],
 "metadata": {
  "kernelspec": {
   "display_name": "Python 3 (ipykernel)",
   "language": "python",
   "name": "python3"
  },
  "language_info": {
   "codemirror_mode": {
    "name": "ipython",
    "version": 3
   },
   "file_extension": ".py",
   "mimetype": "text/x-python",
   "name": "python",
   "nbconvert_exporter": "python",
   "pygments_lexer": "ipython3",
   "version": "3.10.9"
  },
  "widgets": {
   "application/vnd.jupyter.widget-state+json": {
    "state": {},
    "version_major": 2,
    "version_minor": 0
   }
  }
 },
 "nbformat": 4,
 "nbformat_minor": 5
}
